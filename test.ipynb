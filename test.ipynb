{
 "cells": [
  {
   "cell_type": "code",
   "execution_count": null,
   "metadata": {},
   "outputs": [
    {
     "name": "stderr",
     "output_type": "stream",
     "text": [
      "c:\\Users\\hunte\\OneDrive\\Documents\\GitHub\\icesrag\\.venv\\Lib\\site-packages\\sentence_transformers\\cross_encoder\\CrossEncoder.py:13: TqdmWarning: IProgress not found. Please update jupyter and ipywidgets. See https://ipywidgets.readthedocs.io/en/stable/user_install.html\n",
      "  from tqdm.autonotebook import tqdm, trange\n"
     ]
    }
   ],
   "source": [
    "# Scrape, parse, load (initial to db), embed/preprocess, package, chroma load, retrieve\n",
    "# Query, preprocess, retrieve, rerank, final retrieve\n",
    "# * need to go back and add logging to everything\n",
    "\n",
    "from typing import Dict, List\n",
    "\n",
    "from icesrag.utils.embed.strategy_pattern import EmbeddingEngine\n",
    "from icesrag.utils.embed.base_embedders import SentenceTransformEmbedder\n",
    "\n",
    "from icesrag.utils.text_preprocess.strategy_pattern import TextPreprocessingEngine\n",
    "from icesrag.utils.text_preprocess.bm25_preprocess import BM25PreProcess\n",
    "\n",
    "from icesrag.load.package.strategy_pattern import PackageEngine\n",
    "from icesrag.load.package.chroma_packager import PackageChroma\n",
    "from icesrag.load.package.sqlite_packager import PackageSQLite\n",
    "\n",
    "from icesrag.load.store.strategy_pattern import DatabaseEngine\n",
    "from icesrag.load.store.chromadb import ChromaDBStore\n",
    "from icesrag.load.store.sqlitedb import SQLiteDBStore\n",
    "\n",
    "from icesrag.load.pipeline.loader import CompositeLoader\n",
    "\n",
    "#################\n",
    "\n",
    "from icesrag.retrieve.rerank.rrf import ReciprocalRerankFusion\n",
    "from icesrag.retrieve.rerank.strategy_pattern import ReRankEngine\n",
    "\n",
    "from icesrag.retrieve.retrievers.chroma import ChromaRetriever\n",
    "from icesrag.retrieve.retrievers.sqlite import SQLiteRetriever\n",
    "from icesrag.retrieve.retrievers.strategy_pattern import RetrieverEngine\n",
    "\n",
    "from icesrag.retrieve.pipeline.retriever import CompositeRetriever"
   ]
  },
  {
   "cell_type": "markdown",
   "metadata": {},
   "source": [
    "### Load"
   ]
  },
  {
   "cell_type": "code",
   "execution_count": 2,
   "metadata": {},
   "outputs": [],
   "source": [
    "chunks = ['This is the third test sentence.', 'Here goes another one.']\n",
    "metadatas = [{'test_number':3}, {'test_number':4}]\n",
    "\n",
    "vanilla_embedder = EmbeddingEngine(SentenceTransformEmbedder())\n",
    "vanilla_packager = PackageEngine(PackageChroma())\n",
    "\n",
    "bm25_preprocessor = TextPreprocessingEngine(BM25PreProcess())\n",
    "bm25_packager = PackageEngine(PackageSQLite())\n",
    "\n",
    "vanilla_store = DatabaseEngine(ChromaDBStore())\n",
    "dbpath = r\"C:\\Users\\hunte\\Downloads\\vanillatest.db\"\n",
    "collection_name = 'test'\n",
    "vanilla_store.connect(dbpath, collection_name)\n",
    "\n",
    "bm25_store = DatabaseEngine(SQLiteDBStore())\n",
    "dbpath = r\"C:\\Users\\hunte\\Downloads\\ragtest.db\"\n",
    "collection_name = 'test'\n",
    "bm25_store.connect(dbpath, collection_name)\n",
    "\n",
    "# * could remove type (pretty sure it goes unused)\n",
    "strategies = [\n",
    "                {'name':'vanilla',\n",
    "                 'type':'vector',\n",
    "                 'embed': vanilla_embedder,\n",
    "                 'package': vanilla_packager,\n",
    "                 'store': vanilla_store\n",
    "                },\n",
    "                \n",
    "                {'name':'bm25',\n",
    "                 'type':'text',\n",
    "                 'preprocess': bm25_preprocessor, # allow preprocessing to be a list of steps\n",
    "                 'package': bm25_packager,\n",
    "                 'store': bm25_store\n",
    "                } \n",
    "            ]\n",
    "\n",
    "loader = CompositeLoader(strategies=strategies)\n",
    "loader.prepare_load(chunks, metadatas)"
   ]
  },
  {
   "cell_type": "markdown",
   "metadata": {},
   "source": [
    "### Retrieve"
   ]
  },
  {
   "cell_type": "code",
   "execution_count": 38,
   "metadata": {},
   "outputs": [
    {
     "data": {
      "text/plain": [
       "[{'document_id': '1_2025-01-30 13:27:52',\n",
       "  'fusion_score': 0.031754032258064516,\n",
       "  'document': 'Here goes another one.',\n",
       "  'metadata': {'test_number': 4}},\n",
       " {'document_id': '0_2025-01-30 13:27:52',\n",
       "  'fusion_score': 0.03149801587301587,\n",
       "  'document': 'This is the third test sentence.',\n",
       "  'metadata': {'test_number': 3}}]"
      ]
     },
     "execution_count": 38,
     "metadata": {},
     "output_type": "execute_result"
    }
   ],
   "source": [
    "vanilla_embedder = EmbeddingEngine(SentenceTransformEmbedder())\n",
    "vanilla_retriever = RetrieverEngine(ChromaRetriever())\n",
    "dbpath = r\"C:\\Users\\hunte\\Downloads\\vanillatest.db\"\n",
    "collection_name = 'test'\n",
    "vanilla_retriever.connect(dbpath, collection_name)\n",
    "\n",
    "bm25_preprocessor = TextPreprocessingEngine(BM25PreProcess())\n",
    "bm25_retriever = RetrieverEngine(SQLiteRetriever())\n",
    "dbpath = r\"C:\\Users\\hunte\\Downloads\\ragtest.db\"\n",
    "collection_name = 'test'\n",
    "bm25_retriever.connect(dbpath, collection_name)\n",
    "\n",
    "reranker = ReRankEngine(ReciprocalRerankFusion())\n",
    "\n",
    "# * could remove type (pretty sure it goes unused)\n",
    "strategies = [\n",
    "                {'name':'vanilla',\n",
    "                 'embed': vanilla_embedder,\n",
    "                 'retriever': vanilla_retriever\n",
    "                 },\n",
    "                \n",
    "                {'name':'bm25',\n",
    "                 'preprocess': bm25_preprocessor,\n",
    "                 'retriever': bm25_retriever\n",
    "                } \n",
    "            ]\n",
    "\n",
    "retriever = CompositeRetriever(strategies, reranker)"
   ]
  },
  {
   "cell_type": "code",
   "execution_count": null,
   "metadata": {},
   "outputs": [],
   "source": [
    "query = \"is there another one in here by chance?\"\n",
    "retriever.retrieve(query, 2)"
   ]
  },
  {
   "cell_type": "code",
   "execution_count": 3,
   "metadata": {},
   "outputs": [
    {
     "name": "stdout",
     "output_type": "stream",
     "text": [
      "[]\n"
     ]
    }
   ],
   "source": [
    "import chromadb\n",
    "\n",
    "client = chromadb.PersistentClient(path=\"test\")  # or HttpClient()\n",
    "collections = client.list_collections() # in <0.6.0 returns the list of collection objects, in >=0.6.0 returns the list of collection names\n",
    "print(collections)"
   ]
  },
  {
   "cell_type": "code",
   "execution_count": 1,
   "metadata": {},
   "outputs": [
    {
     "name": "stderr",
     "output_type": "stream",
     "text": [
      "2025-04-07 21:31:01.790 WARNING streamlit.runtime.scriptrunner_utils.script_run_context: Thread 'MainThread': missing ScriptRunContext! This warning can be ignored when running in bare mode.\n",
      "2025-04-07 21:31:02.280 \n",
      "  \u001b[33m\u001b[1mWarning:\u001b[0m to view this Streamlit app on a browser, run it with the following\n",
      "  command:\n",
      "\n",
      "    streamlit run c:\\Users\\samue\\OneDrive\\Desktop\\Local Folder\\icesrag\\.venv\\Lib\\site-packages\\ipykernel_launcher.py [ARGUMENTS]\n",
      "2025-04-07 21:31:02.281 Thread 'MainThread': missing ScriptRunContext! This warning can be ignored when running in bare mode.\n",
      "2025-04-07 21:31:02.282 Thread 'MainThread': missing ScriptRunContext! This warning can be ignored when running in bare mode.\n",
      "2025-04-07 21:31:02.284 Thread 'MainThread': missing ScriptRunContext! This warning can be ignored when running in bare mode.\n",
      "2025-04-07 21:31:02.285 Thread 'MainThread': missing ScriptRunContext! This warning can be ignored when running in bare mode.\n",
      "2025-04-07 21:31:02.286 Thread 'MainThread': missing ScriptRunContext! This warning can be ignored when running in bare mode.\n",
      "2025-04-07 21:31:02.286 Thread 'MainThread': missing ScriptRunContext! This warning can be ignored when running in bare mode.\n",
      "2025-04-07 21:31:02.288 Thread 'MainThread': missing ScriptRunContext! This warning can be ignored when running in bare mode.\n"
     ]
    }
   ],
   "source": [
    "import os\n",
    "import streamlit as st\n",
    "\n",
    "st.write(\"Working dir:\", os.getcwd())\n",
    "st.write(\"Looking for config.toml at:\", os.path.exists(\".streamlit/config.toml\"))\n"
   ]
  }
 ],
 "metadata": {
  "kernelspec": {
   "display_name": ".venv",
   "language": "python",
   "name": "python3"
  },
  "language_info": {
   "codemirror_mode": {
    "name": "ipython",
    "version": 3
   },
   "file_extension": ".py",
   "mimetype": "text/x-python",
   "name": "python",
   "nbconvert_exporter": "python",
   "pygments_lexer": "ipython3",
   "version": "3.12.9"
  }
 },
 "nbformat": 4,
 "nbformat_minor": 2
}
