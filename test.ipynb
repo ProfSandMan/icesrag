{
 "cells": [
  {
   "cell_type": "code",
   "execution_count": 1,
   "metadata": {},
   "outputs": [
    {
     "name": "stderr",
     "output_type": "stream",
     "text": [
      "c:\\Users\\hunte\\OneDrive\\Documents\\GitHub\\icesrag\\.venv\\Lib\\site-packages\\sentence_transformers\\cross_encoder\\CrossEncoder.py:13: TqdmWarning: IProgress not found. Please update jupyter and ipywidgets. See https://ipywidgets.readthedocs.io/en/stable/user_install.html\n",
      "  from tqdm.autonotebook import tqdm, trange\n"
     ]
    }
   ],
   "source": [
    "# Scrape, parse, load (initial to db), embed/preprocess, package, chroma load, retrieve\n",
    "# Query, preprocess, retrieve, rerank, final retrieve\n",
    "# need to go back and add logging to everything\n",
    "\n",
    "# * need concept of vector loader vs text loader\n",
    "from typing import Dict, List\n",
    "\n",
    "from icesrag.utils.embed.strategy_pattern import EmbeddingEngine\n",
    "from icesrag.utils.embed.base_embedders import SentenceTransformEmbedder\n",
    "\n",
    "from icesrag.utils.text_preprocess.strategy_pattern import TextPreprocessingEngine\n",
    "from icesrag.utils.text_preprocess.bm25_preprocess import BM25PreProcess\n",
    "\n",
    "from icesrag.load.package.strategy_pattern import PackageEngine\n",
    "from icesrag.load.package.chroma_packager import PackageChroma\n",
    "from icesrag.load.package.sqlite_packager import PackageSQLite\n",
    "\n",
    "from icesrag.load.store.strategy_pattern import DatabaseEngine\n",
    "from icesrag.load.store.chromadb import ChromaDBStore\n",
    "from icesrag.load.store.sqlitedb import SQLiteDBStore\n",
    "\n",
    "from icesrag.load.pipeline.loader import CompositeLoader"
   ]
  },
  {
   "cell_type": "code",
   "execution_count": 2,
   "metadata": {},
   "outputs": [],
   "source": [
    "chunks = ['This is the third test sentence.', 'Here goes another one.']\n",
    "metadatas = [{'test_number':3}, {'test_number':4}]\n",
    "\n",
    "vanilla_embedder = EmbeddingEngine(SentenceTransformEmbedder())\n",
    "vanilla_packager = PackageEngine(PackageChroma())\n",
    "\n",
    "bm25_preprocessor = TextPreprocessingEngine(BM25PreProcess())\n",
    "bm25_packager = PackageEngine(PackageSQLite())\n",
    "\n",
    "vanilla_store = DatabaseEngine(ChromaDBStore())\n",
    "dbpath = r\"C:\\Users\\hunte\\Downloads\\vanillatest.db\"\n",
    "collection_name = 'test'\n",
    "vanilla_store.connect(dbpath, collection_name)\n",
    "\n",
    "bm25_store = DatabaseEngine(SQLiteDBStore())\n",
    "dbpath = r\"C:\\Users\\hunte\\Downloads\\ragtest.db\"\n",
    "collection_name = 'test'\n",
    "bm25_store.connect(dbpath, collection_name)\n",
    "\n",
    "strategies = [\n",
    "                {'name':'vanilla',\n",
    "                'type':'vector',\n",
    "                'embed': vanilla_embedder,\n",
    "                'package': vanilla_packager,\n",
    "                'store': vanilla_store},\n",
    "                \n",
    "                {'name':'bm25',\n",
    "                'type':'text',\n",
    "                'preprocess': bm25_preprocessor, # allow preprocessing to be a list of steps\n",
    "                'package': bm25_packager,\n",
    "                'store': bm25_store\n",
    "                } \n",
    "            ]\n",
    "\n",
    "loader = CompositeLoader(strategies=strategies)\n",
    "loader.prepare_load(chunks, metadatas)"
   ]
  }
 ],
 "metadata": {
  "kernelspec": {
   "display_name": ".venv",
   "language": "python",
   "name": "python3"
  },
  "language_info": {
   "codemirror_mode": {
    "name": "ipython",
    "version": 3
   },
   "file_extension": ".py",
   "mimetype": "text/x-python",
   "name": "python",
   "nbconvert_exporter": "python",
   "pygments_lexer": "ipython3",
   "version": "3.12.4"
  }
 },
 "nbformat": 4,
 "nbformat_minor": 2
}
